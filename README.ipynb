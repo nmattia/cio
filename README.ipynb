{
 "cells": [
  {
   "cell_type": "code",
   "execution_count": 1,
   "metadata": {},
   "outputs": [],
   "source": [
    "{-# LANGUAGE OverloadedStrings #-}\n",
    "\n",
    "import CIO\n",
    "import Data.Aeson.Lens\n",
    "import Control.Lens"
   ]
  },
  {
   "cell_type": "code",
   "execution_count": 2,
   "metadata": {},
   "outputs": [
    {
     "data": {
      "text/plain": [
       "\"Nicolas Mattia\""
      ]
     },
     "metadata": {},
     "output_type": "display_data"
    }
   ],
   "source": [
    "get \"https://api.github.com/users/nmattia\" <&>\n",
    "    (^.responseBody.key \"name\"._String)"
   ]
  },
  {
   "cell_type": "code",
   "execution_count": 3,
   "metadata": {},
   "outputs": [],
   "source": [
    "import Control.Monad.IO.Class\n",
    "import Data.Time\n",
    "\n",
    "timeIt :: CIO a -> CIO (NominalDiffTime, a)\n",
    "timeIt act = do\n",
    "    start <- liftIO $ getCurrentTime\n",
    "    res <- act\n",
    "    stop <- liftIO $ getCurrentTime\n",
    "    liftIO $ print (diffUTCTime stop start)\n",
    "    pure (diffUTCTime stop start, res)"
   ]
  },
  {
   "cell_type": "code",
   "execution_count": 4,
   "metadata": {},
   "outputs": [],
   "source": [
    "import Data.UUID (toText)\n",
    "import System.Random (randomIO)\n",
    "\n",
    "uuid <- toText <$> randomIO"
   ]
  },
  {
   "cell_type": "code",
   "execution_count": 5,
   "metadata": {},
   "outputs": [
    {
     "data": {
      "text/plain": [
       "(1.087115629s,\"Nicolas Mattia\")"
      ]
     },
     "metadata": {},
     "output_type": "display_data"
    }
   ],
   "source": [
    "timeIt $ getWith (param \"dummy\" .~ [uuid] $ defaults) \"https://api.github.com/users/nmattia\" <&>\n",
    "    (^.responseBody.key \"name\"._String)"
   ]
  },
  {
   "cell_type": "code",
   "execution_count": 6,
   "metadata": {},
   "outputs": [
    {
     "data": {
      "text/plain": [
       "(0.000193292s,\"Nicolas Mattia\")"
      ]
     },
     "metadata": {},
     "output_type": "display_data"
    }
   ],
   "source": [
    "timeIt $ getWith (param \"dummy\" .~ [uuid] $ defaults) \"https://api.github.com/users/nmattia\" <&>\n",
    "    (^.responseBody.key \"name\"._String)"
   ]
  },
  {
   "cell_type": "code",
   "execution_count": 7,
   "metadata": {},
   "outputs": [],
   "source": [
    "import Data.Conduit\n",
    "import Data.Conduit.Combinators as C"
   ]
  },
  {
   "cell_type": "code",
   "execution_count": 8,
   "metadata": {},
   "outputs": [
    {
     "data": {
      "text/plain": [
       "\"haskell-lang\""
      ]
     },
     "metadata": {},
     "output_type": "display_data"
    },
    {
     "data": {
      "text/plain": [
       "\"HaskellStudy\""
      ]
     },
     "metadata": {},
     "output_type": "display_data"
    },
    {
     "data": {
      "text/plain": [
       "\"haskell-notes\""
      ]
     },
     "metadata": {},
     "output_type": "display_data"
    },
    {
     "data": {
      "text/plain": [
       "\"i-lang\""
      ]
     },
     "metadata": {},
     "output_type": "display_data"
    },
    {
     "data": {
      "text/plain": [
       "\"impire-lang\""
      ]
     },
     "metadata": {},
     "output_type": "display_data"
    }
   ],
   "source": [
    "sourceToList $ \n",
    "    getAllWith \n",
    "        (param \"q\" .~ [\"lang:haskell\"] $ defaults)\n",
    "        \"https://api.github.com/search/repositories\"\n",
    "    .| awaitForever (C.yieldMany . (\n",
    "        ^..responseBody\n",
    "        .key \"items\"\n",
    "        .values\n",
    "        .key \"name\"\n",
    "        ._String))\n",
    "    .| C.take 5"
   ]
  }
 ],
 "metadata": {
  "kernelspec": {
   "display_name": "Haskell",
   "language": "haskell",
   "name": "haskell"
  },
  "language_info": {
   "codemirror_mode": "ihaskell",
   "file_extension": ".hs",
   "name": "haskell",
   "version": "8.2.2"
  }
 },
 "nbformat": 4,
 "nbformat_minor": 2
}
